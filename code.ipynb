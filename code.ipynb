{
 "cells": [
  {
   "cell_type": "code",
   "execution_count": 1,
   "metadata": {
    "_cell_guid": "b1076dfc-b9ad-4769-8c92-a6c4dae69d19",
    "_uuid": "8f2839f25d086af736a60e9eeb907d3b93b6e0e5",
    "execution": {
     "iopub.execute_input": "2023-02-02T05:55:38.936129Z",
     "iopub.status.busy": "2023-02-02T05:55:38.935699Z",
     "iopub.status.idle": "2023-02-02T05:55:38.950426Z",
     "shell.execute_reply": "2023-02-02T05:55:38.949372Z"
    },
    "papermill": {
     "duration": 0.029769,
     "end_time": "2023-02-02T05:55:38.952725",
     "exception": false,
     "start_time": "2023-02-02T05:55:38.922956",
     "status": "completed"
    },
    "tags": []
   },
   "outputs": [],
   "source": [
    "#Importation des modules nécessaires\n",
    "import numpy as np \n",
    "import pandas as pd \n",
    "from collections import Counter\n",
    "\n",
    "\n",
    "\n",
    "import os\n",
    "for dirname, _, filenames in os.walk('/kaggle/input'):\n",
    "    for filename in filenames:\n",
    "        print(os.path.join(dirname, filename))\n",
    "\n",
    "        \n",
    "import seaborn as sns \n",
    "import matplotlib.pyplot as plt\n",
    "import gc\n",
    "from sklearn.linear_model import LogisticRegression\n",
    "from sklearn.svm import SVC\n",
    "from sklearn.neighbors import KNeighborsClassifier\n",
    "from sklearn.tree import DecisionTreeClassifier\n",
    "from sklearn.ensemble import RandomForestClassifier\n",
    "\n",
    "import collections\n",
    "\n",
    "from sklearn.model_selection import train_test_split\n",
    "from sklearn.model_selection import StratifiedKFold, GridSearchCV\n",
    "from sklearn.linear_model import LogisticRegression\n",
    "from sklearn.metrics import average_precision_score, accuracy_score, recall_score, precision_score, f1_score, confusion_matrix, precision_recall_curve\n",
    "\n",
    "import warnings\n",
    "warnings.simplefilter('ignore')\n"
   ]
  },
  {
   "cell_type": "markdown",
   "metadata": {},
   "source": [
    "# OBSERVATION DES DONNÉES"
   ]
  },
  {
   "cell_type": "code",
   "execution_count": 3,
   "metadata": {
    "execution": {
     "iopub.execute_input": "2023-02-02T05:55:40.977205Z",
     "iopub.status.busy": "2023-02-02T05:55:40.976836Z",
     "iopub.status.idle": "2023-02-02T05:55:44.072881Z",
     "shell.execute_reply": "2023-02-02T05:55:44.072191Z"
    },
    "papermill": {
     "duration": 3.109613,
     "end_time": "2023-02-02T05:55:44.074888",
     "exception": false,
     "start_time": "2023-02-02T05:55:40.965275",
     "status": "completed"
    },
    "tags": []
   },
   "outputs": [
    {
     "ename": "ParserError",
     "evalue": "Error tokenizing data. C error: Expected 3 fields in line 29, saw 4\n",
     "output_type": "error",
     "traceback": [
      "\u001b[1;31m---------------------------------------------------------------------------\u001b[0m",
      "\u001b[1;31mParserError\u001b[0m                               Traceback (most recent call last)",
      "\u001b[1;32m<ipython-input-3-b7d6a6161a97>\u001b[0m in \u001b[0;36m<module>\u001b[1;34m\u001b[0m\n\u001b[1;32m----> 1\u001b[1;33m \u001b[0mdata_train\u001b[0m \u001b[1;33m=\u001b[0m \u001b[0mpd\u001b[0m\u001b[1;33m.\u001b[0m\u001b[0mread_csv\u001b[0m\u001b[1;33m(\u001b[0m\u001b[1;34m\"train.csv\"\u001b[0m\u001b[1;33m)\u001b[0m\u001b[1;33m\u001b[0m\u001b[1;33m\u001b[0m\u001b[0m\n\u001b[0m\u001b[0;32m      2\u001b[0m \u001b[0mdata_train\u001b[0m\u001b[1;33m.\u001b[0m\u001b[0mhead\u001b[0m\u001b[1;33m(\u001b[0m\u001b[1;33m)\u001b[0m\u001b[1;33m\u001b[0m\u001b[1;33m\u001b[0m\u001b[0m\n",
      "\u001b[1;32mD:\\Anaconda\\lib\\site-packages\\pandas\\io\\parsers.py\u001b[0m in \u001b[0;36mparser_f\u001b[1;34m(filepath_or_buffer, sep, delimiter, header, names, index_col, usecols, squeeze, prefix, mangle_dupe_cols, dtype, engine, converters, true_values, false_values, skipinitialspace, skiprows, skipfooter, nrows, na_values, keep_default_na, na_filter, verbose, skip_blank_lines, parse_dates, infer_datetime_format, keep_date_col, date_parser, dayfirst, cache_dates, iterator, chunksize, compression, thousands, decimal, lineterminator, quotechar, quoting, doublequote, escapechar, comment, encoding, dialect, error_bad_lines, warn_bad_lines, delim_whitespace, low_memory, memory_map, float_precision)\u001b[0m\n\u001b[0;32m    683\u001b[0m         )\n\u001b[0;32m    684\u001b[0m \u001b[1;33m\u001b[0m\u001b[0m\n\u001b[1;32m--> 685\u001b[1;33m         \u001b[1;32mreturn\u001b[0m \u001b[0m_read\u001b[0m\u001b[1;33m(\u001b[0m\u001b[0mfilepath_or_buffer\u001b[0m\u001b[1;33m,\u001b[0m \u001b[0mkwds\u001b[0m\u001b[1;33m)\u001b[0m\u001b[1;33m\u001b[0m\u001b[1;33m\u001b[0m\u001b[0m\n\u001b[0m\u001b[0;32m    686\u001b[0m \u001b[1;33m\u001b[0m\u001b[0m\n\u001b[0;32m    687\u001b[0m     \u001b[0mparser_f\u001b[0m\u001b[1;33m.\u001b[0m\u001b[0m__name__\u001b[0m \u001b[1;33m=\u001b[0m \u001b[0mname\u001b[0m\u001b[1;33m\u001b[0m\u001b[1;33m\u001b[0m\u001b[0m\n",
      "\u001b[1;32mD:\\Anaconda\\lib\\site-packages\\pandas\\io\\parsers.py\u001b[0m in \u001b[0;36m_read\u001b[1;34m(filepath_or_buffer, kwds)\u001b[0m\n\u001b[0;32m    461\u001b[0m \u001b[1;33m\u001b[0m\u001b[0m\n\u001b[0;32m    462\u001b[0m     \u001b[1;32mtry\u001b[0m\u001b[1;33m:\u001b[0m\u001b[1;33m\u001b[0m\u001b[1;33m\u001b[0m\u001b[0m\n\u001b[1;32m--> 463\u001b[1;33m         \u001b[0mdata\u001b[0m \u001b[1;33m=\u001b[0m \u001b[0mparser\u001b[0m\u001b[1;33m.\u001b[0m\u001b[0mread\u001b[0m\u001b[1;33m(\u001b[0m\u001b[0mnrows\u001b[0m\u001b[1;33m)\u001b[0m\u001b[1;33m\u001b[0m\u001b[1;33m\u001b[0m\u001b[0m\n\u001b[0m\u001b[0;32m    464\u001b[0m     \u001b[1;32mfinally\u001b[0m\u001b[1;33m:\u001b[0m\u001b[1;33m\u001b[0m\u001b[1;33m\u001b[0m\u001b[0m\n\u001b[0;32m    465\u001b[0m         \u001b[0mparser\u001b[0m\u001b[1;33m.\u001b[0m\u001b[0mclose\u001b[0m\u001b[1;33m(\u001b[0m\u001b[1;33m)\u001b[0m\u001b[1;33m\u001b[0m\u001b[1;33m\u001b[0m\u001b[0m\n",
      "\u001b[1;32mD:\\Anaconda\\lib\\site-packages\\pandas\\io\\parsers.py\u001b[0m in \u001b[0;36mread\u001b[1;34m(self, nrows)\u001b[0m\n\u001b[0;32m   1152\u001b[0m     \u001b[1;32mdef\u001b[0m \u001b[0mread\u001b[0m\u001b[1;33m(\u001b[0m\u001b[0mself\u001b[0m\u001b[1;33m,\u001b[0m \u001b[0mnrows\u001b[0m\u001b[1;33m=\u001b[0m\u001b[1;32mNone\u001b[0m\u001b[1;33m)\u001b[0m\u001b[1;33m:\u001b[0m\u001b[1;33m\u001b[0m\u001b[1;33m\u001b[0m\u001b[0m\n\u001b[0;32m   1153\u001b[0m         \u001b[0mnrows\u001b[0m \u001b[1;33m=\u001b[0m \u001b[0m_validate_integer\u001b[0m\u001b[1;33m(\u001b[0m\u001b[1;34m\"nrows\"\u001b[0m\u001b[1;33m,\u001b[0m \u001b[0mnrows\u001b[0m\u001b[1;33m)\u001b[0m\u001b[1;33m\u001b[0m\u001b[1;33m\u001b[0m\u001b[0m\n\u001b[1;32m-> 1154\u001b[1;33m         \u001b[0mret\u001b[0m \u001b[1;33m=\u001b[0m \u001b[0mself\u001b[0m\u001b[1;33m.\u001b[0m\u001b[0m_engine\u001b[0m\u001b[1;33m.\u001b[0m\u001b[0mread\u001b[0m\u001b[1;33m(\u001b[0m\u001b[0mnrows\u001b[0m\u001b[1;33m)\u001b[0m\u001b[1;33m\u001b[0m\u001b[1;33m\u001b[0m\u001b[0m\n\u001b[0m\u001b[0;32m   1155\u001b[0m \u001b[1;33m\u001b[0m\u001b[0m\n\u001b[0;32m   1156\u001b[0m         \u001b[1;31m# May alter columns / col_dict\u001b[0m\u001b[1;33m\u001b[0m\u001b[1;33m\u001b[0m\u001b[1;33m\u001b[0m\u001b[0m\n",
      "\u001b[1;32mD:\\Anaconda\\lib\\site-packages\\pandas\\io\\parsers.py\u001b[0m in \u001b[0;36mread\u001b[1;34m(self, nrows)\u001b[0m\n\u001b[0;32m   2057\u001b[0m     \u001b[1;32mdef\u001b[0m \u001b[0mread\u001b[0m\u001b[1;33m(\u001b[0m\u001b[0mself\u001b[0m\u001b[1;33m,\u001b[0m \u001b[0mnrows\u001b[0m\u001b[1;33m=\u001b[0m\u001b[1;32mNone\u001b[0m\u001b[1;33m)\u001b[0m\u001b[1;33m:\u001b[0m\u001b[1;33m\u001b[0m\u001b[1;33m\u001b[0m\u001b[0m\n\u001b[0;32m   2058\u001b[0m         \u001b[1;32mtry\u001b[0m\u001b[1;33m:\u001b[0m\u001b[1;33m\u001b[0m\u001b[1;33m\u001b[0m\u001b[0m\n\u001b[1;32m-> 2059\u001b[1;33m             \u001b[0mdata\u001b[0m \u001b[1;33m=\u001b[0m \u001b[0mself\u001b[0m\u001b[1;33m.\u001b[0m\u001b[0m_reader\u001b[0m\u001b[1;33m.\u001b[0m\u001b[0mread\u001b[0m\u001b[1;33m(\u001b[0m\u001b[0mnrows\u001b[0m\u001b[1;33m)\u001b[0m\u001b[1;33m\u001b[0m\u001b[1;33m\u001b[0m\u001b[0m\n\u001b[0m\u001b[0;32m   2060\u001b[0m         \u001b[1;32mexcept\u001b[0m \u001b[0mStopIteration\u001b[0m\u001b[1;33m:\u001b[0m\u001b[1;33m\u001b[0m\u001b[1;33m\u001b[0m\u001b[0m\n\u001b[0;32m   2061\u001b[0m             \u001b[1;32mif\u001b[0m \u001b[0mself\u001b[0m\u001b[1;33m.\u001b[0m\u001b[0m_first_chunk\u001b[0m\u001b[1;33m:\u001b[0m\u001b[1;33m\u001b[0m\u001b[1;33m\u001b[0m\u001b[0m\n",
      "\u001b[1;32mpandas\\_libs\\parsers.pyx\u001b[0m in \u001b[0;36mpandas._libs.parsers.TextReader.read\u001b[1;34m()\u001b[0m\n",
      "\u001b[1;32mpandas\\_libs\\parsers.pyx\u001b[0m in \u001b[0;36mpandas._libs.parsers.TextReader._read_low_memory\u001b[1;34m()\u001b[0m\n",
      "\u001b[1;32mpandas\\_libs\\parsers.pyx\u001b[0m in \u001b[0;36mpandas._libs.parsers.TextReader._read_rows\u001b[1;34m()\u001b[0m\n",
      "\u001b[1;32mpandas\\_libs\\parsers.pyx\u001b[0m in \u001b[0;36mpandas._libs.parsers.TextReader._tokenize_rows\u001b[1;34m()\u001b[0m\n",
      "\u001b[1;32mpandas\\_libs\\parsers.pyx\u001b[0m in \u001b[0;36mpandas._libs.parsers.raise_parser_error\u001b[1;34m()\u001b[0m\n",
      "\u001b[1;31mParserError\u001b[0m: Error tokenizing data. C error: Expected 3 fields in line 29, saw 4\n"
     ]
    }
   ],
   "source": [
    "data_train = pd.read_csv(\"train.csv\")\n",
    "data_train.head()"
   ]
  },
  {
   "cell_type": "markdown",
   "metadata": {},
   "source": [
    "## CORRÉLATION"
   ]
  },
  {
   "cell_type": "code",
   "execution_count": null,
   "metadata": {
    "execution": {
     "iopub.execute_input": "2023-02-02T05:55:44.099145Z",
     "iopub.status.busy": "2023-02-02T05:55:44.098657Z",
     "iopub.status.idle": "2023-02-02T05:55:45.006483Z",
     "shell.execute_reply": "2023-02-02T05:55:45.005613Z"
    },
    "papermill": {
     "duration": 0.922004,
     "end_time": "2023-02-02T05:55:45.008536",
     "exception": false,
     "start_time": "2023-02-02T05:55:44.086532",
     "status": "completed"
    },
    "tags": []
   },
   "outputs": [],
   "source": [
    "corr = data_train.corr()\n",
    "plt.figure(figsize = (15,5))\n",
    "mask = np.triu(np.ones_like(corr, dtype=bool))\n",
    "sns.heatmap(corr, mask = mask, robust = True, cmap=\"viridis\")\n",
    "plt.title('Table de corrélations')\n",
    "plt.show()"
   ]
  },
  {
   "cell_type": "markdown",
   "metadata": {},
   "source": [
    "## Analyse des données"
   ]
  },
  {
   "cell_type": "markdown",
   "metadata": {
    "papermill": {
     "duration": 0.010343,
     "end_time": "2023-02-02T05:55:45.029862",
     "exception": false,
     "start_time": "2023-02-02T05:55:45.019519",
     "status": "completed"
    },
    "tags": []
   },
   "source": [
    "On remarque que certains variable tels que V3 et V1 sont moins corréler que d autres, mais dans l'ensemble, il n'y a pas une grande corrélation entre les variables"
   ]
  },
  {
   "cell_type": "code",
   "execution_count": null,
   "metadata": {
    "execution": {
     "iopub.execute_input": "2023-02-02T05:55:45.052666Z",
     "iopub.status.busy": "2023-02-02T05:55:45.052301Z",
     "iopub.status.idle": "2023-02-02T05:55:45.332042Z",
     "shell.execute_reply": "2023-02-02T05:55:45.330538Z"
    },
    "papermill": {
     "duration": 0.294137,
     "end_time": "2023-02-02T05:55:45.334666",
     "exception": false,
     "start_time": "2023-02-02T05:55:45.040529",
     "status": "completed"
    },
    "tags": []
   },
   "outputs": [],
   "source": [
    "data_columns  = list(data_train.columns)\n",
    "data_description = pd.DataFrame()\n",
    "for i in data_columns:\n",
    "    desc = pd.DataFrame(data_train[i].describe())\n",
    "    data_description.index = desc.index\n",
    "    data_description[i] = desc[i]\n",
    "    \n",
    "data_description.transpose()"
   ]
  },
  {
   "cell_type": "markdown",
   "metadata": {
    "papermill": {
     "duration": 0.01068,
     "end_time": "2023-02-02T05:55:45.356512",
     "exception": false,
     "start_time": "2023-02-02T05:55:45.345832",
     "status": "completed"
    },
    "tags": []
   },
   "source": [
    "1. Les valeurs sont normalisées à l'aide de l'ACP (Analyse en Composantes Principales) et elles se situent dans une plage de valeurs de négatif à positif.\n",
    "2. Il n'y a pas de valeurs négatives dans les champs montant (Amount), temps (Time) et classe (Class).\n",
    "3. 75 % des transactions étaient inférieures à 68,9 $.\n",
    "\n"
   ]
  },
  {
   "cell_type": "code",
   "execution_count": null,
   "metadata": {
    "execution": {
     "iopub.execute_input": "2023-02-02T05:55:45.381170Z",
     "iopub.status.busy": "2023-02-02T05:55:45.380769Z",
     "iopub.status.idle": "2023-02-02T05:55:45.410399Z",
     "shell.execute_reply": "2023-02-02T05:55:45.408577Z"
    },
    "papermill": {
     "duration": 0.044941,
     "end_time": "2023-02-02T05:55:45.412911",
     "exception": false,
     "start_time": "2023-02-02T05:55:45.367970",
     "status": "completed"
    },
    "tags": []
   },
   "outputs": [],
   "source": [
    "class_1 = data_train[data_train['Class']==1]\n",
    "class_1"
   ]
  },
  {
   "cell_type": "code",
   "execution_count": null,
   "metadata": {
    "execution": {
     "iopub.execute_input": "2023-02-02T05:55:45.438563Z",
     "iopub.status.busy": "2023-02-02T05:55:45.438168Z",
     "iopub.status.idle": "2023-02-02T05:55:45.449676Z",
     "shell.execute_reply": "2023-02-02T05:55:45.448604Z"
    },
    "papermill": {
     "duration": 0.026604,
     "end_time": "2023-02-02T05:55:45.451473",
     "exception": false,
     "start_time": "2023-02-02T05:55:45.424869",
     "status": "completed"
    },
    "tags": []
   },
   "outputs": [],
   "source": [
    "class_1['Time'].describe()"
   ]
  },
  {
   "cell_type": "code",
   "execution_count": null,
   "metadata": {
    "execution": {
     "iopub.execute_input": "2023-02-02T05:55:45.477309Z",
     "iopub.status.busy": "2023-02-02T05:55:45.476913Z",
     "iopub.status.idle": "2023-02-02T05:55:45.566159Z",
     "shell.execute_reply": "2023-02-02T05:55:45.564759Z"
    },
    "papermill": {
     "duration": 0.105392,
     "end_time": "2023-02-02T05:55:45.569224",
     "exception": false,
     "start_time": "2023-02-02T05:55:45.463832",
     "status": "completed"
    },
    "tags": []
   },
   "outputs": [],
   "source": [
    "class_0= data_train[data_train['Class']==0]\n",
    "class_0"
   ]
  },
  {
   "cell_type": "code",
   "execution_count": null,
   "metadata": {
    "execution": {
     "iopub.execute_input": "2023-02-02T05:55:45.595601Z",
     "iopub.status.busy": "2023-02-02T05:55:45.594875Z",
     "iopub.status.idle": "2023-02-02T05:55:45.608879Z",
     "shell.execute_reply": "2023-02-02T05:55:45.607757Z"
    },
    "papermill": {
     "duration": 0.029404,
     "end_time": "2023-02-02T05:55:45.610885",
     "exception": false,
     "start_time": "2023-02-02T05:55:45.581481",
     "status": "completed"
    },
    "tags": []
   },
   "outputs": [],
   "source": [
    "class_0['Time'].describe()"
   ]
  },
  {
   "cell_type": "code",
   "execution_count": null,
   "metadata": {
    "execution": {
     "iopub.execute_input": "2023-02-02T05:55:45.636533Z",
     "iopub.status.busy": "2023-02-02T05:55:45.635585Z",
     "iopub.status.idle": "2023-02-02T05:55:45.648413Z",
     "shell.execute_reply": "2023-02-02T05:55:45.647102Z"
    },
    "papermill": {
     "duration": 0.027637,
     "end_time": "2023-02-02T05:55:45.650526",
     "exception": false,
     "start_time": "2023-02-02T05:55:45.622889",
     "status": "completed"
    },
    "tags": []
   },
   "outputs": [],
   "source": [
    "class_1['Amount'].describe()"
   ]
  },
  {
   "cell_type": "code",
   "execution_count": null,
   "metadata": {
    "execution": {
     "iopub.execute_input": "2023-02-02T05:55:45.676485Z",
     "iopub.status.busy": "2023-02-02T05:55:45.676122Z",
     "iopub.status.idle": "2023-02-02T05:55:45.833110Z",
     "shell.execute_reply": "2023-02-02T05:55:45.831878Z"
    },
    "papermill": {
     "duration": 0.173346,
     "end_time": "2023-02-02T05:55:45.835864",
     "exception": false,
     "start_time": "2023-02-02T05:55:45.662518",
     "status": "completed"
    },
    "tags": []
   },
   "outputs": [],
   "source": [
    "class_1['Amount'].hist()"
   ]
  },
  {
   "cell_type": "code",
   "execution_count": null,
   "metadata": {
    "execution": {
     "iopub.execute_input": "2023-02-02T05:55:46.053830Z",
     "iopub.status.busy": "2023-02-02T05:55:46.053358Z",
     "iopub.status.idle": "2023-02-02T05:55:46.071566Z",
     "shell.execute_reply": "2023-02-02T05:55:46.070056Z"
    },
    "papermill": {
     "duration": 0.03506,
     "end_time": "2023-02-02T05:55:46.074146",
     "exception": false,
     "start_time": "2023-02-02T05:55:46.039086",
     "status": "completed"
    },
    "tags": []
   },
   "outputs": [],
   "source": [
    "class_0['Amount'].describe()"
   ]
  },
  {
   "cell_type": "markdown",
   "metadata": {
    "papermill": {
     "duration": 0.012604,
     "end_time": "2023-02-02T05:55:46.285697",
     "exception": false,
     "start_time": "2023-02-02T05:55:46.273093",
     "status": "completed"
    },
    "tags": []
   },
   "source": [
    "Analyse des classes 0 et 1\n",
    "1. Temps - Le temps écoulé pour les deux cas est assez similaire l'un à l'autre. Par conséquent, je ne détecte aucune corrélation entre eux.\n",
    "\n",
    "2. Montant - En considérant uniquement les transactions frauduleuses, seulement 25 % se situent entre 70 et 4 000 $. Cela indique que le montant volé est très faible."
   ]
  },
  {
   "cell_type": "code",
   "execution_count": null,
   "metadata": {
    "execution": {
     "iopub.execute_input": "2023-02-02T05:55:46.314091Z",
     "iopub.status.busy": "2023-02-02T05:55:46.313481Z",
     "iopub.status.idle": "2023-02-02T05:55:46.521282Z",
     "shell.execute_reply": "2023-02-02T05:55:46.520123Z"
    },
    "papermill": {
     "duration": 0.224655,
     "end_time": "2023-02-02T05:55:46.523462",
     "exception": false,
     "start_time": "2023-02-02T05:55:46.298807",
     "status": "completed"
    },
    "tags": []
   },
   "outputs": [],
   "source": [
    "data_train['Amount'].plot(kind='hist',bins = 20)"
   ]
  },
  {
   "cell_type": "code",
   "execution_count": null,
   "metadata": {
    "execution": {
     "iopub.execute_input": "2023-02-02T05:55:46.553100Z",
     "iopub.status.busy": "2023-02-02T05:55:46.552493Z",
     "iopub.status.idle": "2023-02-02T05:55:46.697012Z",
     "shell.execute_reply": "2023-02-02T05:55:46.696215Z"
    },
    "papermill": {
     "duration": 0.162273,
     "end_time": "2023-02-02T05:55:46.699143",
     "exception": false,
     "start_time": "2023-02-02T05:55:46.536870",
     "status": "completed"
    },
    "tags": []
   },
   "outputs": [],
   "source": [
    "sns.boxplot(x=data_train['Amount'])"
   ]
  },
  {
   "cell_type": "code",
   "execution_count": null,
   "metadata": {
    "execution": {
     "iopub.execute_input": "2023-02-02T05:55:46.729681Z",
     "iopub.status.busy": "2023-02-02T05:55:46.729113Z",
     "iopub.status.idle": "2023-02-02T05:55:51.284564Z",
     "shell.execute_reply": "2023-02-02T05:55:51.283140Z"
    },
    "papermill": {
     "duration": 4.573083,
     "end_time": "2023-02-02T05:55:51.286925",
     "exception": false,
     "start_time": "2023-02-02T05:55:46.713842",
     "status": "completed"
    },
    "tags": []
   },
   "outputs": [],
   "source": [
    "sns.scatterplot(x = 'V20',y='Amount', data = data_train,hue ='Class')\n"
   ]
  },
  {
   "cell_type": "code",
   "execution_count": null,
   "metadata": {
    "execution": {
     "iopub.execute_input": "2023-02-02T05:55:51.317793Z",
     "iopub.status.busy": "2023-02-02T05:55:51.317396Z",
     "iopub.status.idle": "2023-02-02T05:55:55.290825Z",
     "shell.execute_reply": "2023-02-02T05:55:55.289581Z"
    },
    "papermill": {
     "duration": 3.992142,
     "end_time": "2023-02-02T05:55:55.293525",
     "exception": false,
     "start_time": "2023-02-02T05:55:51.301383",
     "status": "completed"
    },
    "tags": []
   },
   "outputs": [],
   "source": [
    "sns.scatterplot(x = 'V21',y='Amount', data = data_train,hue ='Class')"
   ]
  },
  {
   "cell_type": "markdown",
   "metadata": {
    "papermill": {
     "duration": 0.015102,
     "end_time": "2023-02-02T05:55:55.323663",
     "exception": false,
     "start_time": "2023-02-02T05:55:55.308561",
     "status": "completed"
    },
    "tags": []
   },
   "source": [
    "Transactions légitimes vs frauduleuses"
   ]
  },
  {
   "cell_type": "code",
   "execution_count": null,
   "metadata": {
    "execution": {
     "iopub.execute_input": "2023-02-02T05:55:55.355277Z",
     "iopub.status.busy": "2023-02-02T05:55:55.354864Z",
     "iopub.status.idle": "2023-02-02T05:55:55.368861Z",
     "shell.execute_reply": "2023-02-02T05:55:55.367844Z"
    },
    "papermill": {
     "duration": 0.032718,
     "end_time": "2023-02-02T05:55:55.371486",
     "exception": false,
     "start_time": "2023-02-02T05:55:55.338768",
     "status": "completed"
    },
    "tags": []
   },
   "outputs": [],
   "source": [
    "data_train['Class'].value_counts()/data_train['Class'].value_counts().sum() * 100"
   ]
  },
  {
   "cell_type": "code",
   "execution_count": null,
   "metadata": {
    "execution": {
     "iopub.execute_input": "2023-02-02T05:55:55.403158Z",
     "iopub.status.busy": "2023-02-02T05:55:55.402724Z",
     "iopub.status.idle": "2023-02-02T05:55:55.412488Z",
     "shell.execute_reply": "2023-02-02T05:55:55.411252Z"
    },
    "papermill": {
     "duration": 0.028527,
     "end_time": "2023-02-02T05:55:55.415073",
     "exception": false,
     "start_time": "2023-02-02T05:55:55.386546",
     "status": "completed"
    },
    "tags": []
   },
   "outputs": [],
   "source": [
    "data_train['Class'].value_counts()"
   ]
  },
  {
   "cell_type": "markdown",
   "metadata": {
    "papermill": {
     "duration": 0.014571,
     "end_time": "2023-02-02T05:55:55.445249",
     "exception": false,
     "start_time": "2023-02-02T05:55:55.430678",
     "status": "completed"
    },
    "tags": []
   },
   "source": [
    "Étant donné que l'ensemble de données présente un fort déséquilibre, nous pouvons créer un échantillon représentatif de l'ensemble de données et commencer à partir de là."
   ]
  },
  {
   "cell_type": "code",
   "execution_count": null,
   "metadata": {
    "execution": {
     "iopub.execute_input": "2023-02-02T05:55:55.478437Z",
     "iopub.status.busy": "2023-02-02T05:55:55.477556Z",
     "iopub.status.idle": "2023-02-02T05:55:55.570189Z",
     "shell.execute_reply": "2023-02-02T05:55:55.569281Z"
    },
    "papermill": {
     "duration": 0.112113,
     "end_time": "2023-02-02T05:55:55.572944",
     "exception": false,
     "start_time": "2023-02-02T05:55:55.460831",
     "status": "completed"
    },
    "tags": []
   },
   "outputs": [],
   "source": [
    "data_sample = data_train.sample(frac = 1)\n",
    "\n",
    "data_fraud = data_sample.loc[data_sample['Class']==1]\n",
    "data_true = data_sample.loc[data_sample['Class']==0][:470]"
   ]
  },
  {
   "cell_type": "code",
   "execution_count": null,
   "metadata": {
    "execution": {
     "iopub.execute_input": "2023-02-02T05:55:55.605376Z",
     "iopub.status.busy": "2023-02-02T05:55:55.604951Z",
     "iopub.status.idle": "2023-02-02T05:55:55.637426Z",
     "shell.execute_reply": "2023-02-02T05:55:55.635704Z"
    },
    "papermill": {
     "duration": 0.052947,
     "end_time": "2023-02-02T05:55:55.641124",
     "exception": false,
     "start_time": "2023-02-02T05:55:55.588177",
     "status": "completed"
    },
    "tags": []
   },
   "outputs": [],
   "source": [
    "data_resampled = pd.concat([data_fraud,data_true])\n",
    "data_resampled = data_resampled.sample(frac =1,random_state = 51)\n",
    "data_resampled.reset_index(inplace = True, drop = True)\n",
    "data_resampled.drop(columns=['id'],inplace = True)\n",
    "data_resampled"
   ]
  },
  {
   "cell_type": "markdown",
   "metadata": {
    "papermill": {
     "duration": 0.015575,
     "end_time": "2023-02-02T05:55:55.672649",
     "exception": false,
     "start_time": "2023-02-02T05:55:55.657074",
     "status": "completed"
    },
    "tags": []
   },
   "source": [
    "### mise en échelle de Time et amount"
   ]
  },
  {
   "cell_type": "code",
   "execution_count": null,
   "metadata": {
    "execution": {
     "iopub.execute_input": "2023-02-02T05:55:55.706374Z",
     "iopub.status.busy": "2023-02-02T05:55:55.705962Z",
     "iopub.status.idle": "2023-02-02T05:55:55.714826Z",
     "shell.execute_reply": "2023-02-02T05:55:55.713346Z"
    },
    "papermill": {
     "duration": 0.02855,
     "end_time": "2023-02-02T05:55:55.717423",
     "exception": false,
     "start_time": "2023-02-02T05:55:55.688873",
     "status": "completed"
    },
    "tags": []
   },
   "outputs": [],
   "source": [
    "from sklearn.preprocessing import  RobustScaler\n",
    "from sklearn.model_selection import train_test_split\n",
    "\n",
    "rc = RobustScaler()\n",
    "data_resampled['Time'] = rc.fit_transform(data_resampled['Time'].values.reshape(-1,1))\n",
    "data_resampled['Amount'] = rc.fit_transform(data_resampled['Amount'].values.reshape(-1,1))\n"
   ]
  },
  {
   "cell_type": "code",
   "execution_count": null,
   "metadata": {
    "execution": {
     "iopub.execute_input": "2023-02-02T05:55:55.751766Z",
     "iopub.status.busy": "2023-02-02T05:55:55.751369Z",
     "iopub.status.idle": "2023-02-02T05:55:55.781172Z",
     "shell.execute_reply": "2023-02-02T05:55:55.780012Z"
    },
    "papermill": {
     "duration": 0.049575,
     "end_time": "2023-02-02T05:55:55.783195",
     "exception": false,
     "start_time": "2023-02-02T05:55:55.733620",
     "status": "completed"
    },
    "scrolled": true,
    "tags": []
   },
   "outputs": [],
   "source": [
    "data_resampled"
   ]
  },
  {
   "cell_type": "code",
   "execution_count": null,
   "metadata": {
    "execution": {
     "iopub.execute_input": "2023-02-02T05:55:55.816471Z",
     "iopub.status.busy": "2023-02-02T05:55:55.816074Z",
     "iopub.status.idle": "2023-02-02T05:55:55.824397Z",
     "shell.execute_reply": "2023-02-02T05:55:55.823400Z"
    },
    "papermill": {
     "duration": 0.027154,
     "end_time": "2023-02-02T05:55:55.826280",
     "exception": false,
     "start_time": "2023-02-02T05:55:55.799126",
     "status": "completed"
    },
    "tags": []
   },
   "outputs": [],
   "source": [
    "data_resampled.Class.value_counts()"
   ]
  },
  {
   "cell_type": "markdown",
   "metadata": {
    "papermill": {
     "duration": 0.0161,
     "end_time": "2023-02-02T05:55:56.329211",
     "exception": false,
     "start_time": "2023-02-02T05:55:56.313111",
     "status": "completed"
    },
    "tags": []
   },
   "source": [
    "## COMPARAISON DES MODÈLES"
   ]
  },
  {
   "cell_type": "code",
   "execution_count": null,
   "metadata": {
    "execution": {
     "iopub.execute_input": "2023-02-02T05:55:56.364658Z",
     "iopub.status.busy": "2023-02-02T05:55:56.363483Z",
     "iopub.status.idle": "2023-02-02T05:55:56.768004Z",
     "shell.execute_reply": "2023-02-02T05:55:56.766678Z"
    },
    "papermill": {
     "duration": 0.42462,
     "end_time": "2023-02-02T05:55:56.770149",
     "exception": false,
     "start_time": "2023-02-02T05:55:56.345529",
     "status": "completed"
    },
    "tags": []
   },
   "outputs": [],
   "source": [
    "X = data_resampled.drop('Class', axis=1)\n",
    "y = data_resampled['Class']"
   ]
  },
  {
   "cell_type": "code",
   "execution_count": null,
   "metadata": {},
   "outputs": [],
   "source": [
    "X_train, X_test, y_train, y_test = train_test_split(X, y, test_size=0.2, random_state=42)\n",
    "X_train = X_train.values\n",
    "X_test = X_test.values\n",
    "y_train = y_train.values\n",
    "y_test = y_test.values"
   ]
  },
  {
   "cell_type": "code",
   "execution_count": null,
   "metadata": {},
   "outputs": [],
   "source": [
    "classifiers = {\n",
    "    \"LogisiticRegression\": LogisticRegression(),\n",
    "    \"KNearest\": KNeighborsClassifier(),\n",
    "    \"Support Vector Classifier\": SVC(),\n",
    "    \"DecisionTreeClassifier\": DecisionTreeClassifier()\n",
    "}"
   ]
  },
  {
   "cell_type": "code",
   "execution_count": null,
   "metadata": {},
   "outputs": [],
   "source": [
    "from sklearn.model_selection import cross_val_score\n",
    "\n",
    "for key, classifier in classifiers.items():\n",
    "    classifier.fit(X_train, y_train)\n",
    "    training_score = cross_val_score(classifier, X_train, y_train, cv=5)\n",
    "    print(\"Le classifieur: \", classifier.__class__.__name__, \"\", round(training_score.mean(), 2) * 100, \"% accuracy score\")"
   ]
  },
  {
   "cell_type": "markdown",
   "metadata": {},
   "source": [
    "En moyenne SVC et LogisticRegression sont les algorithmes les plus efficaces"
   ]
  },
  {
   "cell_type": "code",
   "execution_count": null,
   "metadata": {
    "execution": {
     "iopub.execute_input": "2023-02-02T05:55:56.807312Z",
     "iopub.status.busy": "2023-02-02T05:55:56.806915Z",
     "iopub.status.idle": "2023-02-02T05:55:58.992558Z",
     "shell.execute_reply": "2023-02-02T05:55:58.991296Z"
    },
    "papermill": {
     "duration": 2.207523,
     "end_time": "2023-02-02T05:55:58.995392",
     "exception": false,
     "start_time": "2023-02-02T05:55:56.787869",
     "status": "completed"
    },
    "tags": []
   },
   "outputs": [],
   "source": [
    "test = pd.read_csv(\"test.csv\")\n",
    "data_test =test.copy()\n",
    "data_test.drop(columns=['id'],inplace = True)\n",
    "data_test['Time'] = rc.fit_transform(data_test['Time'].values.reshape(-1,1))\n",
    "data_test['Amount'] = rc.fit_transform(data_test['Amount'].values.reshape(-1,1))\n",
    "data_test"
   ]
  },
  {
   "cell_type": "code",
   "execution_count": null,
   "metadata": {
    "execution": {
     "iopub.execute_input": "2023-02-02T05:55:59.032251Z",
     "iopub.status.busy": "2023-02-02T05:55:59.031777Z",
     "iopub.status.idle": "2023-02-02T05:55:59.053092Z",
     "shell.execute_reply": "2023-02-02T05:55:59.052083Z"
    },
    "papermill": {
     "duration": 0.042645,
     "end_time": "2023-02-02T05:55:59.055109",
     "exception": false,
     "start_time": "2023-02-02T05:55:59.012464",
     "status": "completed"
    },
    "tags": []
   },
   "outputs": [],
   "source": [
    "log_reg = LogisticRegression(solver='liblinear', random_state=0)\n",
    "log_reg.fit(X_train,y_train)"
   ]
  },
  {
   "cell_type": "code",
   "execution_count": null,
   "metadata": {
    "execution": {
     "iopub.execute_input": "2023-02-02T05:55:59.090941Z",
     "iopub.status.busy": "2023-02-02T05:55:59.090561Z",
     "iopub.status.idle": "2023-02-02T05:55:59.098860Z",
     "shell.execute_reply": "2023-02-02T05:55:59.097343Z"
    },
    "papermill": {
     "duration": 0.028957,
     "end_time": "2023-02-02T05:55:59.101271",
     "exception": false,
     "start_time": "2023-02-02T05:55:59.072314",
     "status": "completed"
    },
    "tags": []
   },
   "outputs": [],
   "source": [
    "y_pred_test = log_reg.predict(X_test)\n",
    "y_pred_test"
   ]
  },
  {
   "cell_type": "code",
   "execution_count": null,
   "metadata": {
    "execution": {
     "iopub.execute_input": "2023-02-02T05:55:59.137423Z",
     "iopub.status.busy": "2023-02-02T05:55:59.136953Z",
     "iopub.status.idle": "2023-02-02T05:55:59.143302Z",
     "shell.execute_reply": "2023-02-02T05:55:59.142352Z"
    },
    "papermill": {
     "duration": 0.027672,
     "end_time": "2023-02-02T05:55:59.146145",
     "exception": false,
     "start_time": "2023-02-02T05:55:59.118473",
     "status": "completed"
    },
    "tags": []
   },
   "outputs": [],
   "source": [
    "from sklearn.metrics import accuracy_score\n",
    "\n",
    "print('Score de précision du modèle: {0:0.4f}'. format(accuracy_score(y_test, y_pred_test)))"
   ]
  },
  {
   "cell_type": "code",
   "execution_count": null,
   "metadata": {
    "execution": {
     "iopub.execute_input": "2023-02-02T05:55:59.185184Z",
     "iopub.status.busy": "2023-02-02T05:55:59.184371Z",
     "iopub.status.idle": "2023-02-02T05:55:59.199069Z",
     "shell.execute_reply": "2023-02-02T05:55:59.198040Z"
    },
    "papermill": {
     "duration": 0.036443,
     "end_time": "2023-02-02T05:55:59.201310",
     "exception": false,
     "start_time": "2023-02-02T05:55:59.164867",
     "status": "completed"
    },
    "tags": []
   },
   "outputs": [],
   "source": [
    "print('Score du set de training: {:.4f}'.format(log_reg.score(X_train, y_train)))\n",
    "\n",
    "print('Score du set de test: {:.4f}'.format(log_reg.score(X_test, y_test)))"
   ]
  },
  {
   "cell_type": "markdown",
   "metadata": {
    "papermill": {
     "duration": 0.027027,
     "end_time": "2023-02-02T05:55:59.251751",
     "exception": false,
     "start_time": "2023-02-02T05:55:59.224724",
     "status": "completed"
    },
    "tags": []
   },
   "source": [
    "PRÉDICTION FINAL"
   ]
  },
  {
   "cell_type": "code",
   "execution_count": null,
   "metadata": {
    "execution": {
     "iopub.execute_input": "2023-02-02T05:55:59.301675Z",
     "iopub.status.busy": "2023-02-02T05:55:59.301268Z",
     "iopub.status.idle": "2023-02-02T05:55:59.314147Z",
     "shell.execute_reply": "2023-02-02T05:55:59.313315Z"
    },
    "papermill": {
     "duration": 0.040812,
     "end_time": "2023-02-02T05:55:59.316331",
     "exception": false,
     "start_time": "2023-02-02T05:55:59.275519",
     "status": "completed"
    },
    "tags": []
   },
   "outputs": [],
   "source": [
    "y_pred_test = log_reg.predict(data_test)\n",
    "y_pred_test"
   ]
  },
  {
   "cell_type": "code",
   "execution_count": null,
   "metadata": {
    "execution": {
     "iopub.execute_input": "2023-02-02T05:55:59.367733Z",
     "iopub.status.busy": "2023-02-02T05:55:59.367310Z",
     "iopub.status.idle": "2023-02-02T05:55:59.384953Z",
     "shell.execute_reply": "2023-02-02T05:55:59.384059Z"
    },
    "papermill": {
     "duration": 0.047974,
     "end_time": "2023-02-02T05:55:59.387409",
     "exception": false,
     "start_time": "2023-02-02T05:55:59.339435",
     "status": "completed"
    },
    "tags": []
   },
   "outputs": [],
   "source": [
    "log_reg.predict_proba(data_test)"
   ]
  },
  {
   "cell_type": "markdown",
   "metadata": {
    "papermill": {
     "duration": 0.022929,
     "end_time": "2023-02-02T05:55:59.434072",
     "exception": false,
     "start_time": "2023-02-02T05:55:59.411143",
     "status": "completed"
    },
    "tags": []
   },
   "source": [
    "## Rééchantillonnage de l'ensemble de données avec une autre méthode"
   ]
  },
  {
   "cell_type": "code",
   "execution_count": null,
   "metadata": {
    "execution": {
     "iopub.execute_input": "2023-02-02T05:55:59.481859Z",
     "iopub.status.busy": "2023-02-02T05:55:59.481467Z",
     "iopub.status.idle": "2023-02-02T05:55:59.551066Z",
     "shell.execute_reply": "2023-02-02T05:55:59.549528Z"
    },
    "papermill": {
     "duration": 0.09697,
     "end_time": "2023-02-02T05:55:59.554811",
     "exception": false,
     "start_time": "2023-02-02T05:55:59.457841",
     "status": "completed"
    },
    "tags": []
   },
   "outputs": [],
   "source": [
    "data_train['Time'] = rc.fit_transform(data_train['Time'].values.reshape(-1,1))\n",
    "data_train['Amount'] = rc.fit_transform(data_train['Amount'].values.reshape(-1,1))\n",
    "data_train"
   ]
  },
  {
   "cell_type": "code",
   "execution_count": null,
   "metadata": {
    "execution": {
     "iopub.execute_input": "2023-02-02T05:55:59.593143Z",
     "iopub.status.busy": "2023-02-02T05:55:59.592668Z",
     "iopub.status.idle": "2023-02-02T05:55:59.754399Z",
     "shell.execute_reply": "2023-02-02T05:55:59.753452Z"
    },
    "papermill": {
     "duration": 0.184586,
     "end_time": "2023-02-02T05:55:59.756933",
     "exception": false,
     "start_time": "2023-02-02T05:55:59.572347",
     "status": "completed"
    },
    "tags": []
   },
   "outputs": [],
   "source": [
    "features = data_train.drop([\"id\",\"Class\"], axis=1)\n",
    "labels = data_train[\"Class\"]\n",
    "\n",
    "X_train1, X_test1, y_train1, y_test1 = train_test_split(features, labels, test_size=0.2, shuffle=True, stratify=labels, random_state=2023)"
   ]
  },
  {
   "cell_type": "code",
   "execution_count": null,
   "metadata": {},
   "outputs": [],
   "source": [
    "print(\"Dimentions de X_train : {}\".format(X_train1.shape))\n",
    "print(\"Dimentions de  X_test : {}\".format(X_test1.shape))\n",
    "print(\"Dimentions de y_train : {}\".format(y_train1.shape))\n",
    "print(\"Dimentions de  y_test : {}\".format(y_test1.shape))\n",
    "\n",
    "print('Dimensions des Labels y_train :', Counter(y_train1))\n",
    "print('Dimensions des Labels y_test :', Counter(y_test1))"
   ]
  },
  {
   "cell_type": "code",
   "execution_count": null,
   "metadata": {
    "execution": {
     "iopub.execute_input": "2023-02-02T05:55:59.797992Z",
     "iopub.status.busy": "2023-02-02T05:55:59.797537Z",
     "iopub.status.idle": "2023-02-02T05:56:55.744881Z",
     "shell.execute_reply": "2023-02-02T05:56:55.743731Z"
    },
    "papermill": {
     "duration": 55.969284,
     "end_time": "2023-02-02T05:56:55.747604",
     "exception": false,
     "start_time": "2023-02-02T05:55:59.778320",
     "status": "completed"
    },
    "tags": []
   },
   "outputs": [],
   "source": [
    "undersample = OneSidedSelection(n_neighbors=1, n_seeds_S=200, random_state=2023)\n",
    "undersample_X_train, undersample_y_train = undersample.fit_resample(X_train1, y_train1)"
   ]
  },
  {
   "cell_type": "code",
   "execution_count": null,
   "metadata": {},
   "outputs": [],
   "source": [
    "oversample = SMOTE(sampling_strategy=0.7, random_state=2023)\n",
    "resample_X_train, resample_y_train = oversample.fit_resample(undersample_X_train, undersample_y_train)"
   ]
  },
  {
   "cell_type": "code",
   "execution_count": null,
   "metadata": {},
   "outputs": [],
   "source": [
    "final_model = LogisticRegression(random_state=2023, penalty=\"l2\")\n",
    "final_model.fit(resample_X_train, resample_y_train)"
   ]
  },
  {
   "cell_type": "code",
   "execution_count": null,
   "metadata": {},
   "outputs": [],
   "source": [
    "y_pred = final_model.predict(X_test1)\n",
    "y_score = final_model.predict_proba(X_test1)[:,1]"
   ]
  },
  {
   "cell_type": "code",
   "execution_count": null,
   "metadata": {},
   "outputs": [],
   "source": [
    "accuracy = round(accuracy_score(y_test1, y_pred), 4)\n",
    "recall = round(recall_score(y_test1, y_pred), 4)\n",
    "precision = round(precision_score(y_test1, y_pred), 4)\n",
    "f1 = round(f1_score(y_test1, y_pred), 4)\n",
    "auc_pr = round(average_precision_score(y_test1, y_pred), 4)"
   ]
  },
  {
   "cell_type": "code",
   "execution_count": null,
   "metadata": {
    "execution": {
     "iopub.execute_input": "2023-02-02T05:56:55.802412Z",
     "iopub.status.busy": "2023-02-02T05:56:55.802002Z",
     "iopub.status.idle": "2023-02-02T05:56:55.812089Z",
     "shell.execute_reply": "2023-02-02T05:56:55.811208Z"
    },
    "papermill": {
     "duration": 0.042108,
     "end_time": "2023-02-02T05:56:55.815177",
     "exception": false,
     "start_time": "2023-02-02T05:56:55.773069",
     "status": "completed"
    },
    "tags": []
   },
   "outputs": [],
   "source": [
    "y_pred = final_model.predict(data_test)"
   ]
  },
  {
   "cell_type": "code",
   "execution_count": null,
   "metadata": {
    "execution": {
     "iopub.execute_input": "2023-02-02T05:56:55.865980Z",
     "iopub.status.busy": "2023-02-02T05:56:55.865007Z",
     "iopub.status.idle": "2023-02-02T05:56:55.925662Z",
     "shell.execute_reply": "2023-02-02T05:56:55.924771Z"
    },
    "papermill": {
     "duration": 0.091097,
     "end_time": "2023-02-02T05:56:55.930560",
     "exception": false,
     "start_time": "2023-02-02T05:56:55.839463",
     "status": "completed"
    },
    "tags": []
   },
   "outputs": [],
   "source": [
    "sub = pd.read_csv('sample_submission.csv')\n",
    "sub['Class'] = y_pred"
   ]
  },
  {
   "cell_type": "code",
   "execution_count": null,
   "metadata": {},
   "outputs": [],
   "source": [
    "print('Score de précision du modèle: {0:0.4f}'. format(accuracy))"
   ]
  },
  {
   "cell_type": "code",
   "execution_count": null,
   "metadata": {
    "execution": {
     "iopub.execute_input": "2023-02-02T05:56:55.976743Z",
     "iopub.status.busy": "2023-02-02T05:56:55.976296Z",
     "iopub.status.idle": "2023-02-02T05:56:56.123214Z",
     "shell.execute_reply": "2023-02-02T05:56:56.121868Z"
    },
    "papermill": {
     "duration": 0.175091,
     "end_time": "2023-02-02T05:56:56.125808",
     "exception": false,
     "start_time": "2023-02-02T05:56:55.950717",
     "status": "completed"
    },
    "tags": []
   },
   "outputs": [],
   "source": [
    "sub.to_csv('submission.csv',index=False)"
   ]
  }
 ],
 "metadata": {
  "kernelspec": {
   "display_name": "Python 3",
   "language": "python",
   "name": "python3"
  },
  "language_info": {
   "codemirror_mode": {
    "name": "ipython",
    "version": 3
   },
   "file_extension": ".py",
   "mimetype": "text/x-python",
   "name": "python",
   "nbconvert_exporter": "python",
   "pygments_lexer": "ipython3",
   "version": "3.7.4"
  },
  "papermill": {
   "default_parameters": {},
   "duration": 86.700072,
   "end_time": "2023-02-02T05:56:57.238769",
   "environment_variables": {},
   "exception": null,
   "input_path": "__notebook__.ipynb",
   "output_path": "__notebook__.ipynb",
   "parameters": {},
   "start_time": "2023-02-02T05:55:30.538697",
   "version": "2.3.4"
  }
 },
 "nbformat": 4,
 "nbformat_minor": 5
}
